{
 "cells": [
  {
   "cell_type": "code",
   "execution_count": 1,
   "metadata": {},
   "outputs": [],
   "source": [
    "# Imports\n",
    "import os\n",
    "import cv2\n",
    "import pandas as pd\n",
    "import numpy as np\n",
    "import mediapipe as mp\n",
    "from mediapipe.python.solutions.face_mesh_connections import FACEMESH_CONTOURS"
   ]
  },
  {
   "cell_type": "code",
   "execution_count": 2,
   "metadata": {},
   "outputs": [],
   "source": [
    "mp_drawing = mp.solutions.drawing_utils \n",
    "mp_holistic = mp.solutions.holistic "
   ]
  },
  {
   "cell_type": "code",
   "execution_count": 3,
   "metadata": {},
   "outputs": [],
   "source": [
    "# Total landmarks\n",
    "TOTAL_FACE_LANDMARKS  = 468\n",
    "TOTAL_RHAND_LANDMARKS = 21\n",
    "TOTAL_LHAND_LANDMARKS = 21\n",
    "TOTAL_POSE_LANDMARKS  = 33"
   ]
  },
  {
   "cell_type": "code",
   "execution_count": 11,
   "metadata": {},
   "outputs": [],
   "source": [
    "# Create Dataframe columns names\n",
    "## Columns names list\n",
    "list_column_names = []\n",
    "## WORD\n",
    "list_column_names.append(\"Word\")\n",
    "## FACE\n",
    "for i in range(TOTAL_FACE_LANDMARKS):\n",
    "    list_column_names.append(\"Face-\"+str(i))\n",
    "## RIGHT HAND\n",
    "for i in range(TOTAL_RHAND_LANDMARKS):\n",
    "    list_column_names.append(\"RHand-\"+str(i))\n",
    "## LEFT HAND\n",
    "for i in range(TOTAL_LHAND_LANDMARKS):\n",
    "    list_column_names.append(\"LHand-\"+str(i))\n",
    "## POSE\n",
    "for i in range(TOTAL_RHAND_LANDMARKS):\n",
    "    list_column_names.append(\"Pose-\"+str(i))"
   ]
  },
  {
   "cell_type": "code",
   "execution_count": 13,
   "metadata": {},
   "outputs": [
    {
     "data": {
      "text/html": [
       "<div>\n",
       "<style scoped>\n",
       "    .dataframe tbody tr th:only-of-type {\n",
       "        vertical-align: middle;\n",
       "    }\n",
       "\n",
       "    .dataframe tbody tr th {\n",
       "        vertical-align: top;\n",
       "    }\n",
       "\n",
       "    .dataframe thead tr th {\n",
       "        text-align: left;\n",
       "    }\n",
       "</style>\n",
       "<table border=\"1\" class=\"dataframe\">\n",
       "  <thead>\n",
       "    <tr>\n",
       "      <th></th>\n",
       "      <th>Word</th>\n",
       "      <th>Face-0</th>\n",
       "      <th>Face-1</th>\n",
       "      <th>Face-2</th>\n",
       "      <th>Face-3</th>\n",
       "      <th>Face-4</th>\n",
       "      <th>Face-5</th>\n",
       "      <th>Face-6</th>\n",
       "      <th>Face-7</th>\n",
       "      <th>Face-8</th>\n",
       "      <th>...</th>\n",
       "      <th>Pose-11</th>\n",
       "      <th>Pose-12</th>\n",
       "      <th>Pose-13</th>\n",
       "      <th>Pose-14</th>\n",
       "      <th>Pose-15</th>\n",
       "      <th>Pose-16</th>\n",
       "      <th>Pose-17</th>\n",
       "      <th>Pose-18</th>\n",
       "      <th>Pose-19</th>\n",
       "      <th>Pose-20</th>\n",
       "    </tr>\n",
       "  </thead>\n",
       "  <tbody>\n",
       "  </tbody>\n",
       "</table>\n",
       "<p>0 rows × 532 columns</p>\n",
       "</div>"
      ],
      "text/plain": [
       "Empty DataFrame\n",
       "Columns: [(Word,), (Face-0,), (Face-1,), (Face-2,), (Face-3,), (Face-4,), (Face-5,), (Face-6,), (Face-7,), (Face-8,), (Face-9,), (Face-10,), (Face-11,), (Face-12,), (Face-13,), (Face-14,), (Face-15,), (Face-16,), (Face-17,), (Face-18,), (Face-19,), (Face-20,), (Face-21,), (Face-22,), (Face-23,), (Face-24,), (Face-25,), (Face-26,), (Face-27,), (Face-28,), (Face-29,), (Face-30,), (Face-31,), (Face-32,), (Face-33,), (Face-34,), (Face-35,), (Face-36,), (Face-37,), (Face-38,), (Face-39,), (Face-40,), (Face-41,), (Face-42,), (Face-43,), (Face-44,), (Face-45,), (Face-46,), (Face-47,), (Face-48,), (Face-49,), (Face-50,), (Face-51,), (Face-52,), (Face-53,), (Face-54,), (Face-55,), (Face-56,), (Face-57,), (Face-58,), (Face-59,), (Face-60,), (Face-61,), (Face-62,), (Face-63,), (Face-64,), (Face-65,), (Face-66,), (Face-67,), (Face-68,), (Face-69,), (Face-70,), (Face-71,), (Face-72,), (Face-73,), (Face-74,), (Face-75,), (Face-76,), (Face-77,), (Face-78,), (Face-79,), (Face-80,), (Face-81,), (Face-82,), (Face-83,), (Face-84,), (Face-85,), (Face-86,), (Face-87,), (Face-88,), (Face-89,), (Face-90,), (Face-91,), (Face-92,), (Face-93,), (Face-94,), (Face-95,), (Face-96,), (Face-97,), (Face-98,), ...]\n",
       "Index: []\n",
       "\n",
       "[0 rows x 532 columns]"
      ]
     },
     "execution_count": 13,
     "metadata": {},
     "output_type": "execute_result"
    }
   ],
   "source": [
    "df = pd.DataFrame(columns = [list_column_names])\n",
    "df"
   ]
  },
  {
   "cell_type": "code",
   "execution_count": 14,
   "metadata": {},
   "outputs": [
    {
     "name": "stdout",
     "output_type": "stream",
     "text": [
      "../Train_Dataset/Abajo\\word-abajo-001-f-r10-rs10.avi\n",
      "../Train_Dataset/Amigo\\word-amigo-001-f-r10-rs10.avi\n",
      "../Train_Dataset/Casa\\word-casa-001-f-r10-rs10.avi\n",
      "../Train_Dataset/Cerveza\\word-cerveza-001-f-r10-rs10.avi\n",
      "../Train_Dataset/Colegio\\word-colegio-001-f-r10-rs10.avi\n",
      "../Train_Dataset/Sentir\\word-sentir-001-f-r10-rs10.avi\n"
     ]
    }
   ],
   "source": [
    "# Read Videos\n",
    "path = \"../Train_Dataset/\"\n",
    "words = [words for words in os.listdir(path) if os.path.isdir(os.path.join(path, words))]\n",
    "\n",
    "\n",
    "for word in words:\n",
    "    for video in os.listdir(os.path.join(path, word)):\n",
    "        # Path to each video\n",
    "        video_path = os.path.join(os.path.join(path, word), video)\n",
    "        "
   ]
  }
 ],
 "metadata": {
  "kernelspec": {
   "display_name": "Python 3 (ipykernel)",
   "language": "python",
   "name": "python3"
  },
  "language_info": {
   "codemirror_mode": {
    "name": "ipython",
    "version": 3
   },
   "file_extension": ".py",
   "mimetype": "text/x-python",
   "name": "python",
   "nbconvert_exporter": "python",
   "pygments_lexer": "ipython3",
   "version": "3.7.9"
  }
 },
 "nbformat": 4,
 "nbformat_minor": 4
}
