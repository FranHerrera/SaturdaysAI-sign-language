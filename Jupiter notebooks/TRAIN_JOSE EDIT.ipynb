{
 "cells": [
  {
   "cell_type": "code",
   "execution_count": 1,
   "metadata": {},
   "outputs": [],
   "source": [
    "# Imports\n",
    "import os\n",
    "import csv\n",
    "import cv2\n",
    "import pandas as pd\n",
    "import numpy as np\n",
    "import mediapipe as mp\n",
    "from mediapipe.python.solutions.face_mesh_connections import FACEMESH_CONTOURS"
   ]
  },
  {
   "cell_type": "code",
   "execution_count": 2,
   "metadata": {},
   "outputs": [],
   "source": [
    "mp_drawing = mp.solutions.drawing_utils \n",
    "mp_holistic = mp.solutions.holistic "
   ]
  },
  {
   "cell_type": "code",
   "execution_count": 3,
   "metadata": {},
   "outputs": [],
   "source": [
    "# Total landmarks\n",
    "TOTAL_FACE_LANDMARKS  = 468\n",
    "TOTAL_RHAND_LANDMARKS = 21\n",
    "TOTAL_LHAND_LANDMARKS = 21\n",
    "TOTAL_POSE_LANDMARKS  = 33"
   ]
  },
  {
   "cell_type": "code",
   "execution_count": 4,
   "metadata": {},
   "outputs": [],
   "source": [
    "# Create Dataframe columns names\n",
    "## Columns names list\n",
    "list_column_names = []\n",
    "## WORD\n",
    "list_column_names.append(\"Word\")\n",
    "## FACE\n",
    "for i in range(TOTAL_FACE_LANDMARKS):\n",
    "    list_column_names.append(\"Face-\"+str(i))\n",
    "## RIGHT HAND\n",
    "for i in range(TOTAL_RHAND_LANDMARKS):\n",
    "    list_column_names.append(\"RHand-\"+str(i))\n",
    "## LEFT HAND\n",
    "for i in range(TOTAL_LHAND_LANDMARKS):\n",
    "    list_column_names.append(\"LHand-\"+str(i))\n",
    "## POSE\n",
    "for i in range(TOTAL_RHAND_LANDMARKS):\n",
    "    list_column_names.append(\"Pose-\"+str(i))"
   ]
  },
  {
   "cell_type": "code",
   "execution_count": 5,
   "metadata": {},
   "outputs": [
    {
     "data": {
      "text/html": [
       "<div>\n",
       "<style scoped>\n",
       "    .dataframe tbody tr th:only-of-type {\n",
       "        vertical-align: middle;\n",
       "    }\n",
       "\n",
       "    .dataframe tbody tr th {\n",
       "        vertical-align: top;\n",
       "    }\n",
       "\n",
       "    .dataframe thead tr th {\n",
       "        text-align: left;\n",
       "    }\n",
       "</style>\n",
       "<table border=\"1\" class=\"dataframe\">\n",
       "  <thead>\n",
       "    <tr>\n",
       "      <th></th>\n",
       "      <th>Word</th>\n",
       "      <th>Face-0</th>\n",
       "      <th>Face-1</th>\n",
       "      <th>Face-2</th>\n",
       "      <th>Face-3</th>\n",
       "      <th>Face-4</th>\n",
       "      <th>Face-5</th>\n",
       "      <th>Face-6</th>\n",
       "      <th>Face-7</th>\n",
       "      <th>Face-8</th>\n",
       "      <th>...</th>\n",
       "      <th>Pose-11</th>\n",
       "      <th>Pose-12</th>\n",
       "      <th>Pose-13</th>\n",
       "      <th>Pose-14</th>\n",
       "      <th>Pose-15</th>\n",
       "      <th>Pose-16</th>\n",
       "      <th>Pose-17</th>\n",
       "      <th>Pose-18</th>\n",
       "      <th>Pose-19</th>\n",
       "      <th>Pose-20</th>\n",
       "    </tr>\n",
       "  </thead>\n",
       "  <tbody>\n",
       "  </tbody>\n",
       "</table>\n",
       "<p>0 rows × 532 columns</p>\n",
       "</div>"
      ],
      "text/plain": [
       "Empty DataFrame\n",
       "Columns: [(Word,), (Face-0,), (Face-1,), (Face-2,), (Face-3,), (Face-4,), (Face-5,), (Face-6,), (Face-7,), (Face-8,), (Face-9,), (Face-10,), (Face-11,), (Face-12,), (Face-13,), (Face-14,), (Face-15,), (Face-16,), (Face-17,), (Face-18,), (Face-19,), (Face-20,), (Face-21,), (Face-22,), (Face-23,), (Face-24,), (Face-25,), (Face-26,), (Face-27,), (Face-28,), (Face-29,), (Face-30,), (Face-31,), (Face-32,), (Face-33,), (Face-34,), (Face-35,), (Face-36,), (Face-37,), (Face-38,), (Face-39,), (Face-40,), (Face-41,), (Face-42,), (Face-43,), (Face-44,), (Face-45,), (Face-46,), (Face-47,), (Face-48,), (Face-49,), (Face-50,), (Face-51,), (Face-52,), (Face-53,), (Face-54,), (Face-55,), (Face-56,), (Face-57,), (Face-58,), (Face-59,), (Face-60,), (Face-61,), (Face-62,), (Face-63,), (Face-64,), (Face-65,), (Face-66,), (Face-67,), (Face-68,), (Face-69,), (Face-70,), (Face-71,), (Face-72,), (Face-73,), (Face-74,), (Face-75,), (Face-76,), (Face-77,), (Face-78,), (Face-79,), (Face-80,), (Face-81,), (Face-82,), (Face-83,), (Face-84,), (Face-85,), (Face-86,), (Face-87,), (Face-88,), (Face-89,), (Face-90,), (Face-91,), (Face-92,), (Face-93,), (Face-94,), (Face-95,), (Face-96,), (Face-97,), (Face-98,), ...]\n",
       "Index: []\n",
       "\n",
       "[0 rows x 532 columns]"
      ]
     },
     "execution_count": 5,
     "metadata": {},
     "output_type": "execute_result"
    }
   ],
   "source": [
    "df = pd.DataFrame(columns = [list_column_names])\n",
    "df"
   ]
  },
  {
   "cell_type": "code",
   "execution_count": 12,
   "metadata": {},
   "outputs": [],
   "source": [
    "with open('coords.csv', mode='w', newline='') as f:\n",
    "    csv_writer = csv.writer(f, delimiter=',', quotechar='\"', quoting=csv.QUOTE_MINIMAL)\n",
    "    csv_writer.writerow(df)"
   ]
  },
  {
   "cell_type": "code",
   "execution_count": 17,
   "metadata": {},
   "outputs": [
    {
     "ename": "FileNotFoundError",
     "evalue": "[WinError 3] El sistema no puede encontrar la ruta especificada: '../abajoprueba'",
     "output_type": "error",
     "traceback": [
      "\u001b[1;31m---------------------------------------------------------------------------\u001b[0m",
      "\u001b[1;31mFileNotFoundError\u001b[0m                         Traceback (most recent call last)",
      "\u001b[1;32m<ipython-input-17-c4ecc3d45b5c>\u001b[0m in \u001b[0;36m<module>\u001b[1;34m\u001b[0m\n\u001b[0;32m      1\u001b[0m \u001b[1;31m# Read Videos\u001b[0m\u001b[1;33m\u001b[0m\u001b[1;33m\u001b[0m\u001b[1;33m\u001b[0m\u001b[0m\n\u001b[0;32m      2\u001b[0m \u001b[0mpath\u001b[0m \u001b[1;33m=\u001b[0m \u001b[1;34m\"../abajoprueba\"\u001b[0m\u001b[1;33m\u001b[0m\u001b[1;33m\u001b[0m\u001b[0m\n\u001b[1;32m----> 3\u001b[1;33m \u001b[0mwords\u001b[0m \u001b[1;33m=\u001b[0m \u001b[1;33m[\u001b[0m\u001b[0mwords\u001b[0m \u001b[1;32mfor\u001b[0m \u001b[0mwords\u001b[0m \u001b[1;32min\u001b[0m \u001b[0mos\u001b[0m\u001b[1;33m.\u001b[0m\u001b[0mlistdir\u001b[0m\u001b[1;33m(\u001b[0m\u001b[0mpath\u001b[0m\u001b[1;33m)\u001b[0m \u001b[1;32mif\u001b[0m \u001b[0mos\u001b[0m\u001b[1;33m.\u001b[0m\u001b[0mpath\u001b[0m\u001b[1;33m.\u001b[0m\u001b[0misdir\u001b[0m\u001b[1;33m(\u001b[0m\u001b[0mos\u001b[0m\u001b[1;33m.\u001b[0m\u001b[0mpath\u001b[0m\u001b[1;33m.\u001b[0m\u001b[0mjoin\u001b[0m\u001b[1;33m(\u001b[0m\u001b[0mpath\u001b[0m\u001b[1;33m,\u001b[0m \u001b[0mwords\u001b[0m\u001b[1;33m)\u001b[0m\u001b[1;33m)\u001b[0m\u001b[1;33m]\u001b[0m\u001b[1;33m\u001b[0m\u001b[1;33m\u001b[0m\u001b[0m\n\u001b[0m\u001b[0;32m      4\u001b[0m \u001b[1;31m# All videos must have the same resolution (400x300)\u001b[0m\u001b[1;33m\u001b[0m\u001b[1;33m\u001b[0m\u001b[1;33m\u001b[0m\u001b[0m\n\u001b[0;32m      5\u001b[0m \u001b[0mHEIGHT\u001b[0m \u001b[1;33m=\u001b[0m \u001b[1;36m400\u001b[0m\u001b[1;33m\u001b[0m\u001b[1;33m\u001b[0m\u001b[0m\n",
      "\u001b[1;31mFileNotFoundError\u001b[0m: [WinError 3] El sistema no puede encontrar la ruta especificada: '../abajoprueba'"
     ]
    }
   ],
   "source": [
    "# Read Videos\n",
    "path = \"../abajoprueba\"\n",
    "words = [words for words in os.listdir(path) if os.path.isdir(os.path.join(path, words))]\n",
    "# All videos must have the same resolution (400x300)\n",
    "HEIGHT = 400\n",
    "WIDTH  = 300\n",
    "for word in words:\n",
    "    for video in os.listdir(os.path.join(path, word)):\n",
    "        # Path to each video\n",
    "        video_path = os.path.join(os.path.join(path, word), video)\n",
    "        print(video_path)\n",
    "        # Capture video\n",
    "        cap = cv2.VideoCapture(video_path)\n",
    "        # Initialize holistic model\n",
    "        with mp_holistic.Holistic(min_detection_confidence = 0.5, min_tracking_confidence = 0.5) as holistic:\n",
    "            while cap.isOpened():\n",
    "                # Read frame\n",
    "                ret, frame = cap.read()\n",
    "                if ret == True:\n",
    "                    # Resize frame\n",
    "                    frame = cv2.resize(frame, (WIDTH, HEIGHT), interpolation = cv2.INTER_AREA)\n",
    "                    # Change color from BGR to RGB\n",
    "                    frame = cv2.cvtColor(frame, cv2.COLOR_BGR2RGB)\n",
    "                    frame.flags.writeable = False\n",
    "                    # Detect landmarks\n",
    "                    results = holistic.process(frame)\n",
    "                    # Get the coordinates\n",
    "                    \n",
    "                    \n",
    "                    \n",
    "                    # CARA\n",
    "                    mp_drawing.draw_landmarks(\n",
    "                        frame_rgb, results.face_landmarks, mp_holistic.FACEMESH_CONTOURS,\n",
    "                        mp_drawing.DrawingSpec(color=(0, 255, 255), thickness=1, circle_radius=1),\n",
    "                        mp_drawing.DrawingSpec(color=(0, 128, 255), thickness=2))\n",
    "               \n",
    "                   # Mano izquieda (azul)\n",
    "                    mp_drawing.draw_landmarks(\n",
    "                        frame_rgb, results.left_hand_landmarks, mp_holistic.HAND_CONNECTIONS,\n",
    "                        mp_drawing.DrawingSpec(color=(255, 255, 0), thickness=2, circle_radius=1),\n",
    "                        mp_drawing.DrawingSpec(color=(255, 0, 0), thickness=2))\n",
    "               \n",
    "                   # Mano derecha (verde)\n",
    "                    mp_drawing.draw_landmarks(\n",
    "                        frame_rgb, results.right_hand_landmarks, mp_holistic.HAND_CONNECTIONS,\n",
    "                        mp_drawing.DrawingSpec(color=(0, 255, 0), thickness=2, circle_radius=1),\n",
    "                        mp_drawing.DrawingSpec(color=(57, 143, 0), thickness=2))\n",
    "               \n",
    "                   # Postura\n",
    "                    mp_drawing.draw_landmarks(\n",
    "                        frame_rgb, results.pose_landmarks, mp_holistic.POSE_CONNECTIONS,\n",
    "                        mp_drawing.DrawingSpec(color=(128, 0, 255), thickness=2, circle_radius=1),\n",
    "                        mp_drawing.DrawingSpec(color=(255, 255, 255), thickness=2))\n",
    "\n",
    "          \n",
    "               \n",
    "                      # Export coordinates\n",
    "                    try:\n",
    "                        # Extraer cuerpo (pose_landmarks) \n",
    "                        pose = results.pose_landmarks.landmark\n",
    "                        pose_row = list(np.array([[landmark.x, landmark.y, landmark.z, landmark.visibility] for landmark in pose]).flatten())\n",
    "               \n",
    "                        # Extraer cara (face_landmarks)\n",
    "                        face = results.face_landmarks.landmark\n",
    "                        face_row = list(np.array([[landmark.x, landmark.y, landmark.z, landmark.visibility] for landmark in face]).flatten())\n",
    "                    \n",
    "                        try:\n",
    "                            # Extraer mano derecha landmarks(right_hand_landmarks)\n",
    "                            handr = results.right_hand_landmarks.landmark\n",
    "                            handr_row = list(np.array([[landmark.x, landmark.y, landmark.z, landmark.visibility] for landmark in handr]).flatten())\n",
    "                    \n",
    "                        except:\n",
    "                            pass\n",
    "               \n",
    "                        try:\n",
    "                        #Extraer mano izquierda landmarks(left_hand_landmarks)\n",
    "                            handl = results.left_hand_landmarks.landmark\n",
    "                            handl_row = list(np.array([[landmark.x, landmark.y, landmark.z, landmark.visibility] for landmark in handl]).flatten())\n",
    "                    \n",
    "                        except:\n",
    "                            pass\n",
    "               \n",
    "               \n",
    "                        # Concate rows ( UNIR ROWS)\n",
    "                    \n",
    "                    \n",
    "                        try:\n",
    "                            row = pose_row + face_row + handr_row+handl_row\n",
    "                        except:                        \n",
    "                            try:\n",
    "                                row = pose_row + face_row + handr_row \n",
    "                            except:                                          \n",
    "                                try:\n",
    "                                    row = pose_row + face_row + handl_row\n",
    "                                except:\n",
    "                                    pass\n",
    "                    \n",
    "                        # Append class name \n",
    "                        row.insert(0, class_name) # insertar nombre en columna 0\n",
    "                    \n",
    "                   \n",
    "                                   \n",
    "               \n",
    "                    except:\n",
    "                        pass\n",
    "                   #frame = cv2.flip(frame,1) #para voltear la imagen en caso de selfie\n",
    "                    cv2.imshow(\"Imagen a detectar\", frame)\n",
    "          \n",
    "                    if (cv2.waitKey(1) & 0xFF == ('s')):\n",
    "                        break                \n",
    "\n",
    "                    # Export to CSV\n",
    "                    with open('coords.csv', mode='a', newline='') as f:\n",
    "                       csv_writer = csv.writer(f, delimiter=',', quotechar='\"', quoting=csv.QUOTE_MINIMAL)\n",
    "                       csv_writer.writerow(df) \n",
    "\n",
    "                    \n",
    "                    \n",
    "               \n",
    "                    \n",
    "                else:\n",
    "                    break\n",
    "            cap.release()\n",
    "        break # Este break es para que solo coja el primer video y asi hacer pruebas"
   ]
  },
  {
   "cell_type": "code",
   "execution_count": 21,
   "metadata": {},
   "outputs": [
    {
     "data": {
      "text/plain": [
       "mediapipe.python.solution_base.SolutionOutputs"
      ]
     },
     "execution_count": 21,
     "metadata": {},
     "output_type": "execute_result"
    }
   ],
   "source": [
    "results"
   ]
  }
 ],
 "metadata": {
  "kernelspec": {
   "display_name": "Python 3",
   "language": "python",
   "name": "python3"
  },
  "language_info": {
   "codemirror_mode": {
    "name": "ipython",
    "version": 3
   },
   "file_extension": ".py",
   "mimetype": "text/x-python",
   "name": "python",
   "nbconvert_exporter": "python",
   "pygments_lexer": "ipython3",
   "version": "3.8.8"
  }
 },
 "nbformat": 4,
 "nbformat_minor": 4
}
