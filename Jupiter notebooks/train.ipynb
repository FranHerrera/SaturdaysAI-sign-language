{
 "cells": [
  {
   "cell_type": "code",
   "execution_count": null,
   "metadata": {},
   "outputs": [],
   "source": [
    "# Imports\n",
    "import os"
   ]
  },
  {
   "cell_type": "code",
   "execution_count": null,
   "metadata": {},
   "outputs": [],
   "source": [
    "# Read Videos\n",
    "path = \"../Train_Dataset/\"\n",
    "words = [words for words in os.listdir(path) if os.path.isdir(os.path.join(path, words))]\n",
    "\n",
    "\n",
    "for word in words:\n",
    "    for video in os.listdir(os.path.join(path, word)):\n",
    "        # Path to each video\n",
    "        video_path = os.path.join(os.path.join(path, word), video)"
   ]
  }
 ],
 "metadata": {
  "language_info": {
   "name": "python"
  },
  "orig_nbformat": 4
 },
 "nbformat": 4,
 "nbformat_minor": 2
}
