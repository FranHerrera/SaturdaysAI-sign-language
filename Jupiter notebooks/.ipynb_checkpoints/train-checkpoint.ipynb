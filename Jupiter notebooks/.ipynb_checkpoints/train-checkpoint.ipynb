{
 "cells": [
  {
   "cell_type": "code",
   "execution_count": 1,
   "metadata": {},
   "outputs": [],
   "source": [
    "# Imports\n",
    "import os\n",
    "import cv2\n",
    "import pandas as pd\n",
    "import numpy as np\n",
    "import mediapipe as mp\n",
    "from mediapipe.python.solutions.face_mesh_connections import FACEMESH_CONTOURS"
   ]
  },
  {
   "cell_type": "code",
   "execution_count": 2,
   "metadata": {},
   "outputs": [],
   "source": [
    "mp_drawing = mp.solutions.drawing_utils \n",
    "mp_holistic = mp.solutions.holistic "
   ]
  },
  {
   "cell_type": "code",
   "execution_count": 3,
   "metadata": {},
   "outputs": [],
   "source": [
    "# Total landmarks\n",
    "TOTAL_FACE_LANDMARKS  = 468\n",
    "TOTAL_RHAND_LANDMARKS = 21\n",
    "TOTAL_LHAND_LANDMARKS = 21\n",
    "TOTAL_POSE_LANDMARKS  = 33"
   ]
  },
  {
   "cell_type": "code",
   "execution_count": 6,
   "metadata": {},
   "outputs": [
    {
     "ename": "TypeError",
     "evalue": "can only concatenate str (not \"list\") to str",
     "output_type": "error",
     "traceback": [
      "\u001b[1;31m---------------------------------------------------------------------------\u001b[0m",
      "\u001b[1;31mTypeError\u001b[0m                                 Traceback (most recent call last)",
      "\u001b[1;32mC:\\Users\\MATANU~1\\AppData\\Local\\Temp/ipykernel_10452/3889160391.py\u001b[0m in \u001b[0;36m<module>\u001b[1;34m\u001b[0m\n\u001b[0;32m     19\u001b[0m     \u001b[0mpose_columns_name\u001b[0m\u001b[1;33m.\u001b[0m\u001b[0mappend\u001b[0m\u001b[1;33m(\u001b[0m\u001b[1;34m\"Pose-\"\u001b[0m\u001b[1;33m+\u001b[0m\u001b[0mstr\u001b[0m\u001b[1;33m(\u001b[0m\u001b[0mi\u001b[0m\u001b[1;33m)\u001b[0m\u001b[1;33m)\u001b[0m\u001b[1;33m\u001b[0m\u001b[1;33m\u001b[0m\u001b[0m\n\u001b[0;32m     20\u001b[0m \u001b[1;33m\u001b[0m\u001b[0m\n\u001b[1;32m---> 21\u001b[1;33m \u001b[0mcolumns_name\u001b[0m \u001b[1;33m=\u001b[0m \u001b[0mword_column_name\u001b[0m \u001b[1;33m+\u001b[0m \u001b[0mface_columns_name\u001b[0m \u001b[1;33m+\u001b[0m \u001b[0mrhand_columns_name\u001b[0m \u001b[1;33m+\u001b[0m \u001b[0mlhand_columns_name\u001b[0m \u001b[1;33m+\u001b[0m \u001b[0mpose_columns_name\u001b[0m\u001b[1;33m\u001b[0m\u001b[1;33m\u001b[0m\u001b[0m\n\u001b[0m",
      "\u001b[1;31mTypeError\u001b[0m: can only concatenate str (not \"list\") to str"
     ]
    }
   ],
   "source": [
    "# Create Dataframe columns names\n",
    "## WORD\n",
    "columns_name = []\n",
    "coumns_name.append(\"Word\")\n",
    "## FACE\n",
    "face_columns_name = []\n",
    "for i in range(TOTAL_FACE_LANDMARKS):\n",
    "    coumns_name.append(\"Face-\"+str(i))\n",
    "## RIGHT HAND\n",
    "rhand_columns_name = []\n",
    "for i in range(TOTAL_RHAND_LANDMARKS):\n",
    "    coumns_name.append(\"RHand-\"+str(i))\n",
    "## LEFT HAND\n",
    "lhand_columns_name = []\n",
    "for i in range(TOTAL_LHAND_LANDMARKS):\n",
    "    coumns_name.append(\"LHand-\"+str(i))\n",
    "## POSE\n",
    "pose_columns_name = []\n",
    "for i in range(TOTAL_RHAND_LANDMARKS):\n",
    "    coumns_name.append(\"Pose-\"+str(i))\n",
    "    \n"
   ]
  },
  {
   "cell_type": "code",
   "execution_count": 5,
   "metadata": {},
   "outputs": [
    {
     "ename": "SyntaxError",
     "evalue": "invalid syntax (Temp/ipykernel_10452/3425380240.py, line 1)",
     "output_type": "error",
     "traceback": [
      "\u001b[1;36m  File \u001b[1;32m\"C:\\Users\\MATANU~1\\AppData\\Local\\Temp/ipykernel_10452/3425380240.py\"\u001b[1;36m, line \u001b[1;32m1\u001b[0m\n\u001b[1;33m    df = pd.DataFrame(columns = [ word_column_name face_columns_name rhand_columns_name lhand_columns_name pose_columns_name])\u001b[0m\n\u001b[1;37m                                                                   ^\u001b[0m\n\u001b[1;31mSyntaxError\u001b[0m\u001b[1;31m:\u001b[0m invalid syntax\n"
     ]
    }
   ],
   "source": [
    "df = pd.DataFrame(columns = [columns_name])"
   ]
  },
  {
   "cell_type": "code",
   "execution_count": null,
   "metadata": {},
   "outputs": [],
   "source": [
    "# Read Videos\n",
    "path = \"../Train_Dataset/\"\n",
    "words = [words for words in os.listdir(path) if os.path.isdir(os.path.join(path, words))]\n",
    "\n",
    "\n",
    "for word in words:\n",
    "    for video in os.listdir(os.path.join(path, word)):\n",
    "        # Path to each video\n",
    "        video_path = os.path.join(os.path.join(path, word), video)"
   ]
  }
 ],
 "metadata": {
  "kernelspec": {
   "display_name": "Python 3 (ipykernel)",
   "language": "python",
   "name": "python3"
  },
  "language_info": {
   "codemirror_mode": {
    "name": "ipython",
    "version": 3
   },
   "file_extension": ".py",
   "mimetype": "text/x-python",
   "name": "python",
   "nbconvert_exporter": "python",
   "pygments_lexer": "ipython3",
   "version": "3.7.9"
  }
 },
 "nbformat": 4,
 "nbformat_minor": 4
}
