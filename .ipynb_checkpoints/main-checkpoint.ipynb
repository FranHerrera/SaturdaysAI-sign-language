{
 "cells": [
  {
   "cell_type": "code",
   "execution_count": 50,
   "id": "1294f0a9-7dce-406d-82bc-1a2a4593f963",
   "metadata": {},
   "outputs": [],
   "source": [
    "import os\n",
    "import glob\n",
    "import pathlib\n",
    "import cv2"
   ]
  },
  {
   "cell_type": "code",
   "execution_count": 44,
   "id": "5ee4f6f3-b281-43a1-99d3-3e38040e0d0a",
   "metadata": {},
   "outputs": [
    {
     "data": {
      "text/plain": [
       "['Abajo', 'Amigo', 'Casa', 'Colegio', 'Sentir']"
      ]
     },
     "execution_count": 44,
     "metadata": {},
     "output_type": "execute_result"
    }
   ],
   "source": [
    "path = '1 - Dataset/Words/'\n",
    "words = [words for words in os.listdir(path) if os.path.isdir(os.path.join(path, words))]\n",
    "\n",
    "words"
   ]
  },
  {
   "cell_type": "code",
   "execution_count": 53,
   "id": "9cfe39a3-69a2-444c-a309-dc581f3089fc",
   "metadata": {},
   "outputs": [],
   "source": [
    "path = '1 - Dataset/Words/'\n",
    "for root, dirnames, filenames in os.walk(path):\n",
    "    for filename in filenames:\n",
    "        if filename.endswith(('.mp4', '.MOV', '.avi', '.mpg')):\n",
    "\n",
    "                "
   ]
  },
  {
   "cell_type": "code",
   "execution_count": 55,
   "id": "abf610f9-4143-46bd-8c58-71d544c39ecb",
   "metadata": {},
   "outputs": [],
   "source": [
    "path = '1 - Dataset/Words/'\n",
    "filename_list = []\n",
    "for root, dirnames, filenames in os.walk(path):\n",
    "    for filename in filenames:\n",
    "        if filename.endswith(('.mp4', '.MOV', '.avi', '.mpg')):\n",
    "            filename_list.append(filename)"
   ]
  },
  {
   "cell_type": "code",
   "execution_count": 63,
   "id": "d582e723-d5ec-4373-9084-8855c2c7d249",
   "metadata": {},
   "outputs": [
    {
     "name": "stdout",
     "output_type": "stream",
     "text": [
      "D:\\workspace\\SaturdaysAI-sign-language\\word-abajo-001.mp4\n"
     ]
    }
   ],
   "source": [
    "a = os.path.abspath(filename_list[0])\n",
    "print(a)"
   ]
  },
  {
   "cell_type": "code",
   "execution_count": 66,
   "id": "ca972ee6-8429-41c9-8738-b7df817f7372",
   "metadata": {},
   "outputs": [
    {
     "ename": "SyntaxError",
     "evalue": "EOL while scanning string literal (Temp/ipykernel_2216/3524311493.py, line 1)",
     "output_type": "error",
     "traceback": [
      "\u001b[1;36m  File \u001b[1;32m\"C:\\Users\\MATANU~1\\AppData\\Local\\Temp/ipykernel_2216/3524311493.py\"\u001b[1;36m, line \u001b[1;32m1\u001b[0m\n\u001b[1;33m    a = \"D:/workspace/SaturdaysAI-sign-language/word-abajo-001.mp4\u001b[0m\n\u001b[1;37m                                                                  ^\u001b[0m\n\u001b[1;31mSyntaxError\u001b[0m\u001b[1;31m:\u001b[0m EOL while scanning string literal\n"
     ]
    }
   ],
   "source": [
    "a = \"D:/workspace/SaturdaysAI-sign-language/word-abajo-001.mp4\"\n",
    "cap = cv2.VideoCapture(a)\n",
    "print(cap)\n",
    "ret, frame = cap.read()\n",
    "print(frame)"
   ]
  }
 ],
 "metadata": {
  "kernelspec": {
   "display_name": "Python 3 (ipykernel)",
   "language": "python",
   "name": "python3"
  },
  "language_info": {
   "codemirror_mode": {
    "name": "ipython",
    "version": 3
   },
   "file_extension": ".py",
   "mimetype": "text/x-python",
   "name": "python",
   "nbconvert_exporter": "python",
   "pygments_lexer": "ipython3",
   "version": "3.7.9"
  }
 },
 "nbformat": 4,
 "nbformat_minor": 5
}
