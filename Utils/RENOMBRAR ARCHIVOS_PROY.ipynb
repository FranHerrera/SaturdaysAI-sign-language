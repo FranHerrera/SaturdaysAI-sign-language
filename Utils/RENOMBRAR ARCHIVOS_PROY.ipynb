{
 "cells": [
  {
   "cell_type": "code",
   "execution_count": null,
   "metadata": {},
   "outputs": [],
   "source": [
    "import os"
   ]
  },
  {
   "cell_type": "code",
   "execution_count": null,
   "metadata": {},
   "outputs": [],
   "source": [
    "print(\"INICIO DE SCRIPT PARA RENONBRAR ARCHIVOS DE UNA CARPETA\")\n",
    "print(\" ********************************************************\")\n",
    "print()\n",
    "path = input(\"  >> INTRODUCE EL PATH DE LA CARPETA QUE QUIERES RENOMBRAR\\n\")\n",
    "print()\n",
    "print(\" - Path elegido: \", path)\n",
    "\n",
    "word = input(\"  >> Introduce el nombre nuevo para el archivo (nombre archivo-<word>-<number>.mp4):\\n\")\n",
    "print(\" Nombre elegido: \", word)\n",
    "\n",
    "# Get all files for the selected path\n",
    "file_list = os.listdir(path)\n",
    "saved_path = os.getcwd()\n",
    "\n",
    "print(\" - Active folder is \", str(saved_path))\n",
    "os.chdir(path)\n",
    "# Loop to rename all files\n",
    "i=1\n",
    "for file_name in file_list :\n",
    "    # New name with 3 digit start with 001 and end 999\n",
    "    new_name = \"word-{}-{}.mp4\".format(word, str(i).zfill(3))\n",
    "    print(\"     - Rename from \", file_name, \" to \", new_name)\n",
    "    os.rename(file_name, new_name)\n",
    "    i=i+1\n",
    "print(\"Finish script\")\n"
   ]
  },
  {
   "cell_type": "code",
   "execution_count": null,
   "metadata": {},
   "outputs": [],
   "source": []
  }
 ],
 "metadata": {
  "language_info": {
   "name": "python"
  },
  "orig_nbformat": 4
 },
 "nbformat": 4,
 "nbformat_minor": 2
}
